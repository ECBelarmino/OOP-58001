{
  "nbformat": 4,
  "nbformat_minor": 0,
  "metadata": {
    "colab": {
      "name": "Class Application - Belarmino.ipynb",
      "provenance": [],
      "authorship_tag": "ABX9TyPX/GiTzfP4dTCArcrt23H8",
      "include_colab_link": true
    },
    "kernelspec": {
      "name": "python3",
      "display_name": "Python 3"
    },
    "language_info": {
      "name": "python"
    }
  },
  "cells": [
    {
      "cell_type": "markdown",
      "metadata": {
        "id": "view-in-github",
        "colab_type": "text"
      },
      "source": [
        "<a href=\"https://colab.research.google.com/github/ECBelarmino/OOP-58001/blob/main/Class_Application_Belarmino.ipynb\" target=\"_parent\"><img src=\"https://colab.research.google.com/assets/colab-badge.svg\" alt=\"Open In Colab\"/></a>"
      ]
    },
    {
      "cell_type": "markdown",
      "source": [
        "# Class with Multiple Objects Application - Belarmino ⚡"
      ],
      "metadata": {
        "id": "MOKpAUDVqL6T"
      }
    },
    {
      "cell_type": "markdown",
      "source": [
        "\n",
        "* Create a Python program that displays the name of 3 students (Student 1, Student 2, Student 3) and their grades\n",
        "* Create a class name \"Person\" and attributes - std1, std2, std3, pre, mid, fin\n",
        "* Compute for the average grade of each term using Grade() method\n",
        "* Information about student's grades must be hidden from others\n",
        "\n",
        "\n"
      ],
      "metadata": {
        "id": "Huj5Qh6nqfaj"
      }
    },
    {
      "cell_type": "code",
      "source": [
        "import random\n",
        "\n",
        "class Person:\n",
        "  def __init__ (self, student, pre, mid, fin):\n",
        "    self.student = student\n",
        "    self.pre = pre *0.30\n",
        "    self.mid = mid *0.30\n",
        "    self.fin = fin *0.40\n",
        "\n",
        "  def Grade (self):\n",
        "    print (self.student, \"has an average grade of\", self.pre, \"in prelims\")\n",
        "    print (self.student, \"has an average grade of\", self.mid, \"in midterms\")\n",
        "    print (self.student, \"has an average grade of\", self.fin, \"in finals\")\n",
        "\n",
        "std1 = Person (\"Miguel\", random.randint(75,99), random.randint(75,99), random.randint(75,99))\n",
        "std2 = Person (\"Franz\", random.randint(75,99), random.randint(75,99), random.randint(75,99))\n",
        "std3 = Person (\"Elijah\", random.randint(75,99), random.randint(75,99), random.randint(75,99))\n",
        "\n",
        "std1.Grade()"
      ],
      "metadata": {
        "colab": {
          "base_uri": "https://localhost:8080/"
        },
        "id": "-9e_Ezp_rBmr",
        "outputId": "2d2e31c6-afba-4746-8cc5-1c86becbbfd5"
      },
      "execution_count": 9,
      "outputs": [
        {
          "output_type": "stream",
          "name": "stdout",
          "text": [
            "Miguel has an average grade of 23.4 in prelims\n",
            "Miguel has an average grade of 27.0 in midterms\n",
            "Miguel has an average grade of 33.6 in finals\n"
          ]
        }
      ]
    }
  ]
}