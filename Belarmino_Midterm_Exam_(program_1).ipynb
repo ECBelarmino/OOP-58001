{
  "nbformat": 4,
  "nbformat_minor": 0,
  "metadata": {
    "colab": {
      "name": "Belarmino - Midterm Exam (program 1).ipynb",
      "provenance": [],
      "authorship_tag": "ABX9TyNrw5YikYdzsfJE/TLXe6dt",
      "include_colab_link": true
    },
    "kernelspec": {
      "name": "python3",
      "display_name": "Python 3"
    },
    "language_info": {
      "name": "python"
    }
  },
  "cells": [
    {
      "cell_type": "markdown",
      "metadata": {
        "id": "view-in-github",
        "colab_type": "text"
      },
      "source": [
        "<a href=\"https://colab.research.google.com/github/ECBelarmino/OOP-58001/blob/main/Belarmino_Midterm_Exam_(program_1).ipynb\" target=\"_parent\"><img src=\"https://colab.research.google.com/assets/colab-badge.svg\" alt=\"Open In Colab\"/></a>"
      ]
    },
    {
      "cell_type": "markdown",
      "source": [
        "Program 1: Modify the program below by adding two conversion methods - Fahrenheit to Celsius and Kelvin to Celsius (50 points)\n"
      ],
      "metadata": {
        "id": "mEJtxVv0hw_L"
      }
    },
    {
      "cell_type": "code",
      "execution_count": 3,
      "metadata": {
        "colab": {
          "base_uri": "https://localhost:8080/"
        },
        "id": "Wg2W5JBefBhm",
        "outputId": "61122f47-8dc1-4a54-9fb8-9959d3ee6a72"
      },
      "outputs": [
        {
          "output_type": "stream",
          "name": "stdout",
          "text": [
            "Enter the temperature in Celsius: 45\n",
            "Enter the temperature in Fahrenheit: 54\n",
            "Enter the temperature in Kelvin: 450\n",
            "Celsius to Kelvin\n",
            "318.15 Kelvin\n",
            "Celsius to Fahrenheit\n",
            "113.0 Fahrenheit\n",
            "Fahrenhiet to Celsius\n",
            "12.222222222222221 Celsius\n",
            "Kelvin to Celsius\n",
            "-228.14999999999998 Celsius\n"
          ]
        }
      ],
      "source": [
        "def main():\n",
        "\n",
        " class TemperatureConversion:\n",
        "  def __init__(self, temp=1):\n",
        "   self._temp = temp\n",
        "\n",
        " class CelsiusToFahrenheit(TemperatureConversion):\n",
        "  def conversion(self):\n",
        "    return (self._temp * 9) / 5 + 32\n",
        "\n",
        " class CelsiusToKelvin(TemperatureConversion):\n",
        "  def conversion(self):\n",
        "    return self._temp + 273.15\n",
        "\n",
        " class KelvinToCelsius(TemperatureConversion):\n",
        "  def conversion(self):\n",
        "    return self._temp - 273.15\n",
        "\n",
        " class FahrenheitToCelsius(TemperatureConversion):\n",
        "  def conversion(self): \n",
        "    return (self._temp - 32) * 5/9\n",
        "\n",
        " tempInCelsius = float(input(\"Enter the temperature in Celsius: \"))\n",
        " tempInFahrenheit = float(input(\"Enter the temperature in Fahrenheit: \"))\n",
        " tempInKelvin = float(input(\"Enter the temperature in Kelvin: \"))\n",
        "\n",
        " convert = CelsiusToKelvin(tempInCelsius)\n",
        "\n",
        " print(\"Celsius to Kelvin\")\n",
        " print(str(convert.conversion()) + \" Kelvin\")\n",
        "\n",
        " convert = CelsiusToFahrenheit(tempInCelsius)\n",
        " print(\"Celsius to Fahrenheit\")\n",
        " print(str(convert.conversion()) + \" Fahrenheit\")\n",
        "\n",
        " convert = FahrenheitToCelsius(tempInFahrenheit)\n",
        " print(\"Fahrenhiet to Celsius\")\n",
        " print(str(convert.conversion()) + \" Celsius\")\n",
        "\n",
        " convert = KelvinToCelsius(tempInCelsius)\n",
        " print(\"Kelvin to Celsius\")\n",
        " print(str(convert.conversion()) + \" Celsius\")\n",
        "\n",
        "main()"
      ]
    }
  ]
}