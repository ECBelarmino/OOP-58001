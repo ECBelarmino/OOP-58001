{
  "nbformat": 4,
  "nbformat_minor": 0,
  "metadata": {
    "colab": {
      "name": "Prelim Exam",
      "provenance": [],
      "toc_visible": true,
      "authorship_tag": "ABX9TyMlhujGoaBzkDr0ndJ9aM21",
      "include_colab_link": true
    },
    "kernelspec": {
      "name": "python3",
      "display_name": "Python 3"
    },
    "language_info": {
      "name": "python"
    }
  },
  "cells": [
    {
      "cell_type": "markdown",
      "metadata": {
        "id": "view-in-github",
        "colab_type": "text"
      },
      "source": [
        "<a href=\"https://colab.research.google.com/github/ECBelarmino/OOP-58001/blob/main/Prelim_Exam.ipynb\" target=\"_parent\"><img src=\"https://colab.research.google.com/assets/colab-badge.svg\" alt=\"Open In Colab\"/></a>"
      ]
    },
    {
      "cell_type": "markdown",
      "source": [
        "# **Prelim Exam - Belarmino ⚡**"
      ],
      "metadata": {
        "id": "-7nntduJEbz_"
      }
    },
    {
      "cell_type": "markdown",
      "source": [
        "* Write a Python to display your full name, student number, age, and course\n",
        "* Create a class named Student with attributes: Name, Student_No, Age, School, and Course\n",
        "* Create an object name Myself and assign an instance for each attribute.\n",
        "* Create a method Self () using an instantiation of a class.\n",
        "* Insert your GitHub link \"Prelim Exam\" from your repository named \"OOP 58001\" "
      ],
      "metadata": {
        "id": "d352W2ZREs3a"
      }
    },
    {
      "cell_type": "code",
      "source": [
        "class Student ():\n",
        "  def __init__ (self, Name, Student_No, Age, School, Course):\n",
        "    self.Name = Name\n",
        "    self.Student_No = Student_No\n",
        "    self.Age = Age\n",
        "    self.School = School\n",
        "    self.Course = Course\n",
        "\n",
        "  def Myself (self):\n",
        "    print (\"My name is\", self.Name)\n",
        "    print (\"My student number is\", self.Student_No)\n",
        "    print (\"I am\", self.Age, \"years old\")\n",
        "    print (\"I am studying\", self.Course, \"at\", self.School)\n",
        "\n",
        "sinigang = Student (\"Erica Belarmino\", 202110020, 18, \"Adamson University\", \"BS Computer Engineering\")\n",
        "sinigang.Myself()"
      ],
      "metadata": {
        "colab": {
          "base_uri": "https://localhost:8080/"
        },
        "id": "bCkKRXy9FJGS",
        "outputId": "198548c3-19b7-4d03-d04d-535d641f8441"
      },
      "execution_count": 5,
      "outputs": [
        {
          "output_type": "stream",
          "name": "stdout",
          "text": [
            "My name is Erica Belarmino\n",
            "My student number is 202110020\n",
            "I am 18 years old\n",
            "I am studying BS Computer Engineering at Adamson University\n"
          ]
        }
      ]
    }
  ]
}