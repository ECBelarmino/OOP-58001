{
  "nbformat": 4,
  "nbformat_minor": 0,
  "metadata": {
    "colab": {
      "name": "OOP Concepts 2.ipynb",
      "provenance": [],
      "authorship_tag": "ABX9TyMmBKzpI5x8q4t00v226G2/",
      "include_colab_link": true
    },
    "kernelspec": {
      "name": "python3",
      "display_name": "Python 3"
    },
    "language_info": {
      "name": "python"
    }
  },
  "cells": [
    {
      "cell_type": "markdown",
      "metadata": {
        "id": "view-in-github",
        "colab_type": "text"
      },
      "source": [
        "<a href=\"https://colab.research.google.com/github/ECBelarmino/OOP-58001/blob/main/OOP_Concepts_2.ipynb\" target=\"_parent\"><img src=\"https://colab.research.google.com/assets/colab-badge.svg\" alt=\"Open In Colab\"/></a>"
      ]
    },
    {
      "cell_type": "markdown",
      "source": [
        "# Classes with multiple objects"
      ],
      "metadata": {
        "id": "K_PnJGrTj7tF"
      }
    },
    {
      "cell_type": "code",
      "source": [
        "class Birds:\n",
        "  def __init__ (self, bird_name):\n",
        "    self.bird_name = bird_name\n",
        "  \n",
        "  def flying_birds (self):\n",
        "    print (f\"{self.bird_name} flies above the clouds\")\n",
        "  def non_flying_birds (self):\n",
        "    print (f\"{self.bird_name} is the national bird of the Philippines\")\n",
        "\n",
        "vulture = Birds (\"Griffin Vulture\")\n",
        "crane = Birds (\"Common Crane\")\n",
        "emu = Birds (\"Emu\")\n",
        "\n",
        "vulture.flying_birds()\n",
        "crane.flying_birds()\n",
        "emu.non_flying_birds()"
      ],
      "metadata": {
        "colab": {
          "base_uri": "https://localhost:8080/"
        },
        "id": "KLaRWzfRj_W9",
        "outputId": "b52c5d4a-055b-4389-c308-963d45772b5f"
      },
      "execution_count": 1,
      "outputs": [
        {
          "output_type": "stream",
          "name": "stdout",
          "text": [
            "Griffin Vulture flies above the clouds\n",
            "Common Crane flies above the clouds\n",
            "Emu is the national bird of the Philippines\n"
          ]
        }
      ]
    },
    {
      "cell_type": "markdown",
      "source": [
        "# Encapsulation"
      ],
      "metadata": {
        "id": "SaRJKiYqlcc4"
      }
    },
    {
      "cell_type": "code",
      "source": [
        "class foo:\n",
        "  def __init__ (self, a, b):\n",
        "    self.a = a\n",
        "    self.b = b\n",
        "  \n",
        "  def add (self):\n",
        "    return self.a + self.b\n",
        "\n",
        "foo_object = foo (5, 8)\n",
        "\n",
        "foo_object.a = 9\n",
        "foo_object.add()"
      ],
      "metadata": {
        "colab": {
          "base_uri": "https://localhost:8080/"
        },
        "id": "Myvj25khliCY",
        "outputId": "2648d225-f3c9-4438-c27c-c740362a6a1b"
      },
      "execution_count": 2,
      "outputs": [
        {
          "output_type": "execute_result",
          "data": {
            "text/plain": [
              "17"
            ]
          },
          "metadata": {},
          "execution_count": 2
        }
      ]
    },
    {
      "cell_type": "code",
      "source": [
        "class counter:\n",
        "  def __init__(self):\n",
        "    self.current = 0\n",
        "  def increment(self):\n",
        "    self.current += 1\n",
        "  def value(self):\n",
        "    return self.current\n",
        "  def reset(self):\n",
        "    self.current = 0\n",
        "\n",
        "counter = counter()\n",
        "\n",
        "counter.increment()\n",
        "counter.increment()\n",
        "counter.increment()\n",
        "\n",
        "print (counter.value())\n",
        "print (counter.reset())"
      ],
      "metadata": {
        "colab": {
          "base_uri": "https://localhost:8080/"
        },
        "id": "NyURRTGnmLFV",
        "outputId": "024a79ee-dad5-4483-ea0c-8561183e79b3"
      },
      "execution_count": 3,
      "outputs": [
        {
          "output_type": "stream",
          "name": "stdout",
          "text": [
            "3\n",
            "None\n"
          ]
        }
      ]
    },
    {
      "cell_type": "markdown",
      "source": [
        "# Inheritance"
      ],
      "metadata": {
        "id": "crOMRedZmOjm"
      }
    },
    {
      "cell_type": "code",
      "source": [
        "class Person:\n",
        "  def __init__ (self,fname,sname):\n",
        "    self.fname = fname\n",
        "    self.sname = sname\n",
        "  def printname (self):\n",
        "    print(self.fname, self.sname)\n",
        "\n",
        "x = Person(\"Adobong\",\"Manok\")\n",
        "x.printname()\n",
        "\n",
        "class Teacher(Person):\n",
        "  pass\n",
        "\n",
        "x = Teacher(\"Tinolang\",\"Manok\")\n",
        "x.printname()"
      ],
      "metadata": {
        "colab": {
          "base_uri": "https://localhost:8080/"
        },
        "id": "K329YZ18mSis",
        "outputId": "2a59fbec-3e22-485f-bc06-6714596acd7e"
      },
      "execution_count": 4,
      "outputs": [
        {
          "output_type": "stream",
          "name": "stdout",
          "text": [
            "Adobong Manok\n",
            "Tinolang Manok\n"
          ]
        }
      ]
    },
    {
      "cell_type": "markdown",
      "source": [
        "# Polymorphism"
      ],
      "metadata": {
        "id": "3bEwXUKFmtxY"
      }
    },
    {
      "cell_type": "code",
      "source": [
        "class RegularPolygon:\n",
        "    def __init__ (self, side):\n",
        "        self._side = side\n",
        "class Square (RegularPolygon):\n",
        "    def area (self):\n",
        "        return self._side * self._side\n",
        "class EquilateralTriangle (RegularPolygon):\n",
        "    def area (self):\n",
        "        return self._side * self._side * 0.433\n",
        "\n",
        "obj1 = Square(4)\n",
        "obj2 = EquilateralTriangle(3)\n",
        "\n",
        "print (obj1.area())\n",
        "print (obj2.area())"
      ],
      "metadata": {
        "colab": {
          "base_uri": "https://localhost:8080/"
        },
        "id": "OVegSSxwmxP_",
        "outputId": "9395d2eb-11a6-413c-ff73-eb89cbfc3078"
      },
      "execution_count": 5,
      "outputs": [
        {
          "output_type": "stream",
          "name": "stdout",
          "text": [
            "16\n",
            "3.897\n"
          ]
        }
      ]
    },
    {
      "cell_type": "markdown",
      "source": [
        "# Application "
      ],
      "metadata": {
        "id": "JOCGqptZnBHL"
      }
    },
    {
      "cell_type": "markdown",
      "source": [
        "* Create a Python program that displays the name of 3 students (Student 1, Student 2, Student 3) and their grades\n",
        "* Create a class name \"Person\" and attributes - std1, std2, std3, pre, mid, fin\n",
        "* Compute for the average grade of each term using Grade() method\n",
        "* Information about student's grades must be hidden from others"
      ],
      "metadata": {
        "id": "3isxm6eCnPws"
      }
    },
    {
      "cell_type": "code",
      "source": [
        "import random\n",
        "\n",
        "class Person:\n",
        "  def __init__ (self, student, pre, mid, fin):\n",
        "    self.student = student\n",
        "    self.pre = pre *0.30\n",
        "    self.mid = mid *0.30\n",
        "    self.fin = fin *0.40\n",
        "\n",
        "  def Grade (self):\n",
        "    print (self.student, \"has an average grade of\", self.pre, \"in prelims\")\n",
        "    print (self.student, \"has an average grade of\", self.mid, \"in midterms\")\n",
        "    print (self.student, \"has an average grade of\", self.fin, \"in finals\")\n",
        "\n",
        "std1 = Person (\"Caldereta\", random.randint(75,99), random.randint(75,99), random.randint(75,99))\n",
        "std2 = Person (\"Menudo\", random.randint(75,99), random.randint(75,99), random.randint(75,99))\n",
        "std3 = Person (\"Afritada\", random.randint(75,99), random.randint(75,99), random.randint(75,99))\n",
        "\n",
        "std1.Grade()"
      ],
      "metadata": {
        "colab": {
          "base_uri": "https://localhost:8080/"
        },
        "id": "i5bWiLH0nYWf",
        "outputId": "f71249b2-4425-4d8d-ebea-f4c6f2427301"
      },
      "execution_count": 11,
      "outputs": [
        {
          "output_type": "stream",
          "name": "stdout",
          "text": [
            "Caldereta has an average grade of 23.7 in prelims\n",
            "Caldereta has an average grade of 27.3 in midterms\n",
            "Caldereta has an average grade of 34.0 in finals\n"
          ]
        }
      ]
    }
  ]
}