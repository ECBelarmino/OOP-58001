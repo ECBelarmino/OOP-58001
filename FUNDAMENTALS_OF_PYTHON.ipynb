{
  "nbformat": 4,
  "nbformat_minor": 0,
  "metadata": {
    "colab": {
      "name": "FUNDAMENTALS OF PYTHON",
      "provenance": [],
      "authorship_tag": "ABX9TyP6ZAgLH2+4wzandfjR2ycA",
      "include_colab_link": true
    },
    "kernelspec": {
      "name": "python3",
      "display_name": "Python 3"
    },
    "language_info": {
      "name": "python"
    }
  },
  "cells": [
    {
      "cell_type": "markdown",
      "metadata": {
        "id": "view-in-github",
        "colab_type": "text"
      },
      "source": [
        "<a href=\"https://colab.research.google.com/github/ECBelarmino/OOP-58001/blob/main/FUNDAMENTALS_OF_PYTHON.ipynb\" target=\"_parent\"><img src=\"https://colab.research.google.com/assets/colab-badge.svg\" alt=\"Open In Colab\"/></a>"
      ]
    },
    {
      "cell_type": "markdown",
      "source": [
        "Python Variables"
      ],
      "metadata": {
        "id": "FbqDXyiVjNBQ"
      }
    },
    {
      "cell_type": "code",
      "source": [
        "x = float(1) \n",
        "a, b = 0, -1\n",
        "a, b, c = \"rei\", \"jai\", \"kc\"\n",
        "\n",
        "print('This a sample')\n",
        "print(a)\n",
        "print(c)"
      ],
      "metadata": {
        "colab": {
          "base_uri": "https://localhost:8080/"
        },
        "id": "Ri6cpT9AjR3u",
        "outputId": "aa1e6d6b-a4a0-48a5-c8a1-4706b4628a36"
      },
      "execution_count": 1,
      "outputs": [
        {
          "output_type": "stream",
          "name": "stdout",
          "text": [
            "This a sample\n",
            "rei\n",
            "kc\n"
          ]
        }
      ]
    },
    {
      "cell_type": "markdown",
      "source": [
        "Casting"
      ],
      "metadata": {
        "id": "0JhCjy0rjjjW"
      }
    },
    {
      "cell_type": "code",
      "source": [
        "print (x)"
      ],
      "metadata": {
        "colab": {
          "base_uri": "https://localhost:8080/"
        },
        "id": "8rl-UEY4jmmh",
        "outputId": "9e295e00-3d1a-4166-9bb1-814df4536fc4"
      },
      "execution_count": 2,
      "outputs": [
        {
          "output_type": "stream",
          "name": "stdout",
          "text": [
            "1.0\n"
          ]
        }
      ]
    },
    {
      "cell_type": "markdown",
      "source": [
        "Type() Function"
      ],
      "metadata": {
        "id": "LXp2SvwHjrJT"
      }
    },
    {
      "cell_type": "code",
      "source": [
        "y = \"dinuguan\"\n",
        "\n",
        "print(type(y))\n",
        "print(type(x))"
      ],
      "metadata": {
        "colab": {
          "base_uri": "https://localhost:8080/"
        },
        "id": "e3iWE9rMjud9",
        "outputId": "d59385cf-4389-4a2f-d989-2122f3fde576"
      },
      "execution_count": 7,
      "outputs": [
        {
          "output_type": "stream",
          "name": "stdout",
          "text": [
            "<class 'str'>\n",
            "<class 'float'>\n"
          ]
        }
      ]
    },
    {
      "cell_type": "markdown",
      "source": [
        "Double quotes and Single quotes"
      ],
      "metadata": {
        "id": "DjvazLXnj64t"
      }
    },
    {
      "cell_type": "code",
      "source": [
        "h= \"calamares\"\n",
        "v= 1\n",
        "V= 2\n",
        "\n",
        "print(h)\n",
        "print(v)\n",
        "print(v+1)"
      ],
      "metadata": {
        "colab": {
          "base_uri": "https://localhost:8080/"
        },
        "id": "XVuRK8zyj9Cm",
        "outputId": "c90fb9c2-85c4-40b2-8452-15e56a6e7a3f"
      },
      "execution_count": 6,
      "outputs": [
        {
          "output_type": "stream",
          "name": "stdout",
          "text": [
            "calamares\n",
            "1\n",
            "2\n"
          ]
        }
      ]
    },
    {
      "cell_type": "markdown",
      "source": [
        "Multiple Variables"
      ],
      "metadata": {
        "id": "HcNprdgIkKCz"
      }
    },
    {
      "cell_type": "code",
      "source": [
        "x,y,z=\"uno\", \"dos\", \"tres\"\n",
        "print(x)\n",
        "print(y)\n",
        "print(z)\n",
        "print(x,y,z)"
      ],
      "metadata": {
        "colab": {
          "base_uri": "https://localhost:8080/"
        },
        "id": "AQpu8wWckOkj",
        "outputId": "3dff7149-0a46-4c00-804c-205e4d8c515b"
      },
      "execution_count": 10,
      "outputs": [
        {
          "output_type": "stream",
          "name": "stdout",
          "text": [
            "uno\n",
            "dos\n",
            "tres\n",
            "uno dos tres\n"
          ]
        }
      ]
    },
    {
      "cell_type": "markdown",
      "source": [
        "One Value to Multiple Variables"
      ],
      "metadata": {
        "id": "JH7q_poPkYay"
      }
    },
    {
      "cell_type": "code",
      "source": [
        "x = y = z =\"juan\"\n",
        "print(x,y,z)"
      ],
      "metadata": {
        "colab": {
          "base_uri": "https://localhost:8080/"
        },
        "id": "0mX2CXVrkZ7h",
        "outputId": "cd3ea23c-b986-445d-febb-bbebbf3c2d17"
      },
      "execution_count": 11,
      "outputs": [
        {
          "output_type": "stream",
          "name": "stdout",
          "text": [
            "juan juan juan\n"
          ]
        }
      ]
    },
    {
      "cell_type": "markdown",
      "source": [
        "Output Variables"
      ],
      "metadata": {
        "id": "sQmqXY9ykeka"
      }
    },
    {
      "cell_type": "code",
      "source": [
        "x= \"eating\"\n",
        "\n",
        "print(\"I am \" + x)\n",
        "\n",
        "x = \"Adobong\"\n",
        "y = \"manacc\"\n",
        "\n",
        "print(x+\"\"+\" \"+y)"
      ],
      "metadata": {
        "colab": {
          "base_uri": "https://localhost:8080/"
        },
        "id": "M31QUredkg2P",
        "outputId": "7940e7ac-e6e6-403e-a227-588bb6ba61e6"
      },
      "execution_count": 13,
      "outputs": [
        {
          "output_type": "stream",
          "name": "stdout",
          "text": [
            "I am eating\n",
            "Adobong manacc\n"
          ]
        }
      ]
    },
    {
      "cell_type": "markdown",
      "source": [
        "Arithmetic Operations"
      ],
      "metadata": {
        "id": "9VmMIMRDk0BW"
      }
    },
    {
      "cell_type": "code",
      "source": [
        "f = 3\n",
        "g = 6\n",
        "i = 9\n",
        "\n",
        "print(f+g)\n",
        "print(f-g)\n",
        "print(f*i)\n",
        "print(int(i/g))\n",
        "print(3/g)\n",
        "print(3%g)\n",
        "print(3//g)\n",
        "print(3**6)"
      ],
      "metadata": {
        "colab": {
          "base_uri": "https://localhost:8080/"
        },
        "id": "Baghvf0qk1Xl",
        "outputId": "eae52e0a-9dc2-49cb-cc02-5763c2970e40"
      },
      "execution_count": 16,
      "outputs": [
        {
          "output_type": "stream",
          "name": "stdout",
          "text": [
            "9\n",
            "-3\n",
            "27\n",
            "1\n",
            "0.5\n",
            "3\n",
            "0\n",
            "729\n"
          ]
        }
      ]
    },
    {
      "cell_type": "markdown",
      "source": [
        "Assignment Operators"
      ],
      "metadata": {
        "id": "B7b3ryublKqu"
      }
    },
    {
      "cell_type": "code",
      "source": [
        "k = 2\n",
        "l=3\n",
        "k+=3 #same as k=k+3\n",
        "\n",
        "print(k)\n",
        "\n",
        "print(l>>1)"
      ],
      "metadata": {
        "colab": {
          "base_uri": "https://localhost:8080/"
        },
        "id": "85qM8AoElM0T",
        "outputId": "d8346185-ff00-4713-c928-51e48035da27"
      },
      "execution_count": 22,
      "outputs": [
        {
          "output_type": "stream",
          "name": "stdout",
          "text": [
            "5\n",
            "1\n"
          ]
        }
      ]
    },
    {
      "cell_type": "markdown",
      "source": [
        "Boolean Operators"
      ],
      "metadata": {
        "id": "h8R7vjLll3K0"
      }
    },
    {
      "cell_type": "code",
      "source": [
        "k=4\n",
        "l=3\n",
        "print(k>>2)#shift right twice \n",
        "print(k<<2)#shift left twice"
      ],
      "metadata": {
        "colab": {
          "base_uri": "https://localhost:8080/"
        },
        "id": "gANJZnial4Sl",
        "outputId": "26519f43-2ddd-4fb9-8969-103ad1e7aba7"
      },
      "execution_count": 23,
      "outputs": [
        {
          "output_type": "stream",
          "name": "stdout",
          "text": [
            "1\n",
            "16\n"
          ]
        }
      ]
    },
    {
      "cell_type": "markdown",
      "source": [
        "Relational Operators"
      ],
      "metadata": {
        "id": "mMVbLE2cmS_v"
      }
    },
    {
      "cell_type": "code",
      "source": [
        "print(v>k) #v=1, k=2\n",
        "\n",
        "print(v==k)"
      ],
      "metadata": {
        "colab": {
          "base_uri": "https://localhost:8080/"
        },
        "id": "W7-VMNmJmUR0",
        "outputId": "334d9b1e-9d3a-4c95-a4dd-895618b9faab"
      },
      "execution_count": 26,
      "outputs": [
        {
          "output_type": "stream",
          "name": "stdout",
          "text": [
            "False\n",
            "False\n"
          ]
        }
      ]
    },
    {
      "cell_type": "markdown",
      "source": [
        "Logical Operators"
      ],
      "metadata": {
        "id": "20wZbcG8mrcU"
      }
    },
    {
      "cell_type": "code",
      "source": [
        "print(v<k and k==k)\n",
        "print(v<k or k==v)\n",
        "print(not (v<k or k==v))"
      ],
      "metadata": {
        "colab": {
          "base_uri": "https://localhost:8080/"
        },
        "id": "LvgeinFxmtQe",
        "outputId": "459a7af8-d3f4-4905-d4af-d41ed09a6476"
      },
      "execution_count": 27,
      "outputs": [
        {
          "output_type": "stream",
          "name": "stdout",
          "text": [
            "True\n",
            "True\n",
            "False\n"
          ]
        }
      ]
    },
    {
      "cell_type": "markdown",
      "source": [
        "Identity Operators"
      ],
      "metadata": {
        "id": "n04clxWTmxr8"
      }
    },
    {
      "cell_type": "code",
      "source": [
        "print(v is k)\n",
        "print(v is not k)"
      ],
      "metadata": {
        "colab": {
          "base_uri": "https://localhost:8080/"
        },
        "id": "UBttEeSqmz-H",
        "outputId": "5ba69045-a77e-4a33-d2ab-10abaa89c3fb"
      },
      "execution_count": 28,
      "outputs": [
        {
          "output_type": "stream",
          "name": "stdout",
          "text": [
            "False\n",
            "True\n"
          ]
        }
      ]
    }
  ]
}