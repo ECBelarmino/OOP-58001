{
  "nbformat": 4,
  "nbformat_minor": 0,
  "metadata": {
    "colab": {
      "name": "Operations and Expressions.ipynb",
      "provenance": [],
      "collapsed_sections": [],
      "authorship_tag": "ABX9TyOZyBy53UIR2HF7nFp6bFUU",
      "include_colab_link": true
    },
    "kernelspec": {
      "name": "python3",
      "display_name": "Python 3"
    },
    "language_info": {
      "name": "python"
    }
  },
  "cells": [
    {
      "cell_type": "markdown",
      "metadata": {
        "id": "view-in-github",
        "colab_type": "text"
      },
      "source": [
        "<a href=\"https://colab.research.google.com/github/ECBelarmino/OOP-58001/blob/main/Operations_and_Expressions.ipynb\" target=\"_parent\"><img src=\"https://colab.research.google.com/assets/colab-badge.svg\" alt=\"Open In Colab\"/></a>"
      ]
    },
    {
      "cell_type": "markdown",
      "source": [
        "Operations and Expressions"
      ],
      "metadata": {
        "id": "Kt6akzVjeZwH"
      }
    },
    {
      "cell_type": "markdown",
      "source": [
        "Boolean Operators"
      ],
      "metadata": {
        "id": "D0mGY4uzfSgZ"
      }
    },
    {
      "cell_type": "code",
      "execution_count": 1,
      "metadata": {
        "colab": {
          "base_uri": "https://localhost:8080/"
        },
        "id": "yiic-El-eNAQ",
        "outputId": "f1750f47-c22b-4c42-fde2-fa5477c3b795"
      },
      "outputs": [
        {
          "output_type": "stream",
          "name": "stdout",
          "text": [
            "False\n",
            "False\n",
            "True\n",
            "True\n"
          ]
        }
      ],
      "source": [
        "print (6>9)\n",
        "print (6==9)\n",
        "print (6!=9)\n",
        "print (6<9)"
      ]
    },
    {
      "cell_type": "markdown",
      "source": [
        "bool() function"
      ],
      "metadata": {
        "id": "zCNVB6idfqWR"
      }
    },
    {
      "cell_type": "code",
      "source": [
        "print (bool(\"Tinola\"))\n",
        "print (bool(5))\n",
        "print (bool([]))\n",
        "print (bool(0))\n",
        "print (bool(1))\n",
        "print (bool(None))\n",
        "print (bool(False))"
      ],
      "metadata": {
        "colab": {
          "base_uri": "https://localhost:8080/"
        },
        "id": "WVS8YVe8ftPy",
        "outputId": "2b6dc840-e3c5-4cfd-c7fa-5d78fe181566"
      },
      "execution_count": 2,
      "outputs": [
        {
          "output_type": "stream",
          "name": "stdout",
          "text": [
            "True\n",
            "True\n",
            "False\n",
            "False\n",
            "True\n",
            "False\n",
            "False\n"
          ]
        }
      ]
    },
    {
      "cell_type": "markdown",
      "source": [
        "Function returning a boolean"
      ],
      "metadata": {
        "id": "hY9gZerbgQBk"
      }
    },
    {
      "cell_type": "code",
      "source": [
        "def HerFunction():\n",
        "  return True\n",
        "\n",
        "print (HerFunction())"
      ],
      "metadata": {
        "colab": {
          "base_uri": "https://localhost:8080/"
        },
        "id": "7F2vhDgJgYGZ",
        "outputId": "77f253b5-96f6-4bfe-89f8-0f55a9016e54"
      },
      "execution_count": 3,
      "outputs": [
        {
          "output_type": "stream",
          "name": "stdout",
          "text": [
            "True\n"
          ]
        }
      ]
    },
    {
      "cell_type": "code",
      "source": [
        "if HerFunction():\n",
        "  print (\"good\")\n",
        "else:\n",
        "  print (\"bad\")"
      ],
      "metadata": {
        "colab": {
          "base_uri": "https://localhost:8080/"
        },
        "id": "TjKhlLtBhDvC",
        "outputId": "7a5b6333-c8dd-494b-f95b-07a3dae2a22b"
      },
      "execution_count": 4,
      "outputs": [
        {
          "output_type": "stream",
          "name": "stdout",
          "text": [
            "good\n"
          ]
        }
      ]
    },
    {
      "cell_type": "markdown",
      "source": [
        "bool logic"
      ],
      "metadata": {
        "id": "JhClO-sahTcq"
      }
    },
    {
      "cell_type": "code",
      "source": [
        "print (5>3)\n",
        "\n",
        "q=23\n",
        "w=45\n",
        "\n",
        "print (q==w)\n",
        "print (q!=w)"
      ],
      "metadata": {
        "colab": {
          "base_uri": "https://localhost:8080/"
        },
        "id": "H0Gca6CqhZrM",
        "outputId": "779397e4-bbf7-4186-e94b-8049d93eb1da"
      },
      "execution_count": 5,
      "outputs": [
        {
          "output_type": "stream",
          "name": "stdout",
          "text": [
            "True\n",
            "False\n",
            "True\n"
          ]
        }
      ]
    },
    {
      "cell_type": "markdown",
      "source": [
        "Operators"
      ],
      "metadata": {
        "id": "9IHWRZpQiFTr"
      }
    },
    {
      "cell_type": "code",
      "source": [
        "print(69+2)\n",
        "print(69-2)\n",
        "print(69*2)\n",
        "print(69/2)\n",
        "print(69%2)\n",
        "print(69//2)"
      ],
      "metadata": {
        "colab": {
          "base_uri": "https://localhost:8080/"
        },
        "id": "A-oA9ZwAiG9E",
        "outputId": "8b4549a8-4368-4e37-81a1-1f7dea481ee2"
      },
      "execution_count": 6,
      "outputs": [
        {
          "output_type": "stream",
          "name": "stdout",
          "text": [
            "71\n",
            "67\n",
            "138\n",
            "34.5\n",
            "1\n",
            "34\n"
          ]
        }
      ]
    },
    {
      "cell_type": "markdown",
      "source": [
        "Bitwise operators"
      ],
      "metadata": {
        "id": "gWhMigR8ifPq"
      }
    },
    {
      "cell_type": "code",
      "source": [
        "print(q&w)\n",
        "print(q|w)\n",
        "print(q^w)\n",
        "print(q<<w)\n",
        "print(q>>w)\n",
        "\n",
        "#q=23 // 00010111\n",
        "#w=45 // 00101101"
      ],
      "metadata": {
        "colab": {
          "base_uri": "https://localhost:8080/"
        },
        "id": "TCXeg2VwijbM",
        "outputId": "ecd48f61-6d0b-4fde-ea06-438b8c25b1fa"
      },
      "execution_count": 8,
      "outputs": [
        {
          "output_type": "stream",
          "name": "stdout",
          "text": [
            "5\n",
            "63\n",
            "58\n",
            "809240558043136\n",
            "0\n"
          ]
        }
      ]
    },
    {
      "cell_type": "markdown",
      "source": [
        "Assignment operators"
      ],
      "metadata": {
        "id": "VAf9yZk7nwTO"
      }
    },
    {
      "cell_type": "code",
      "source": [
        "q+=3\n",
        "q-=3\n",
        "q*=3\n",
        "q/=3\n",
        "q%=3"
      ],
      "metadata": {
        "id": "lckOeACXnyPL"
      },
      "execution_count": 12,
      "outputs": []
    },
    {
      "cell_type": "markdown",
      "source": [
        "Logical operators"
      ],
      "metadata": {
        "id": "YPoHd198oHJ4"
      }
    },
    {
      "cell_type": "code",
      "source": [
        "a=True\n",
        "s=False\n",
        "\n",
        "print (a and s)\n",
        "print (a or s)\n",
        "print (not(a or s))\n",
        "print (not(a and s))"
      ],
      "metadata": {
        "colab": {
          "base_uri": "https://localhost:8080/"
        },
        "id": "LwqZ2_3ToJbt",
        "outputId": "0d7db4b5-dc54-4d8d-c2e7-2213d9ef8cd8"
      },
      "execution_count": 14,
      "outputs": [
        {
          "output_type": "stream",
          "name": "stdout",
          "text": [
            "False\n",
            "True\n",
            "False\n",
            "True\n"
          ]
        }
      ]
    },
    {
      "cell_type": "markdown",
      "source": [
        "Identity operators"
      ],
      "metadata": {
        "id": "jdnHK0pDocQ5"
      }
    },
    {
      "cell_type": "code",
      "source": [
        "print (a is s)\n",
        "print (a is not s)"
      ],
      "metadata": {
        "colab": {
          "base_uri": "https://localhost:8080/"
        },
        "id": "X28nqvceod0W",
        "outputId": "34647e45-0b74-452b-b5d0-ab5541ec3adb"
      },
      "execution_count": 15,
      "outputs": [
        {
          "output_type": "stream",
          "name": "stdout",
          "text": [
            "False\n",
            "True\n"
          ]
        }
      ]
    },
    {
      "cell_type": "markdown",
      "source": [
        "**Control structures**"
      ],
      "metadata": {
        "id": "I5L-PAcko6Hr"
      }
    },
    {
      "cell_type": "markdown",
      "source": [
        "If"
      ],
      "metadata": {
        "id": "V04gHocvpBmq"
      }
    },
    {
      "cell_type": "code",
      "source": [
        "z = 4\n",
        "x = 6\n",
        "\n",
        "if z<x:\n",
        "  print (\"z is less than x\")"
      ],
      "metadata": {
        "colab": {
          "base_uri": "https://localhost:8080/"
        },
        "id": "_7cJr2DDpD6S",
        "outputId": "3f61e86b-b948-49a4-fcea-01895f40839e"
      },
      "execution_count": 16,
      "outputs": [
        {
          "output_type": "stream",
          "name": "stdout",
          "text": [
            "z is less than x\n"
          ]
        }
      ]
    },
    {
      "cell_type": "markdown",
      "source": [
        "Elif"
      ],
      "metadata": {
        "id": "Wqj8R4AopjGA"
      }
    },
    {
      "cell_type": "code",
      "source": [
        "if z>x:\n",
        "  print (\"z is more than x\")\n",
        "elif z<x:\n",
        "  print (\"z is less than x\")\n",
        "elif z==x:\n",
        "  print (\"z and x are equal\")"
      ],
      "metadata": {
        "colab": {
          "base_uri": "https://localhost:8080/"
        },
        "id": "mVh_iOWgpkWK",
        "outputId": "74dd5406-29c7-4423-9766-61fd4e619e04"
      },
      "execution_count": 19,
      "outputs": [
        {
          "output_type": "stream",
          "name": "stdout",
          "text": [
            "z is less than x\n"
          ]
        }
      ]
    },
    {
      "cell_type": "markdown",
      "source": [
        "Else"
      ],
      "metadata": {
        "id": "aYsOyWHQqbEz"
      }
    },
    {
      "cell_type": "code",
      "source": [
        "num = int(input())\n",
        "\n",
        "if num>0:\n",
        "  print (\"happy and positive\")\n",
        "elif num<0:\n",
        "  print (\"bitter and negative\")\n",
        "else:\n",
        "  print (\"neutral and equal\")"
      ],
      "metadata": {
        "colab": {
          "base_uri": "https://localhost:8080/"
        },
        "id": "jFptO52HqiQB",
        "outputId": "e02653f1-0f77-4ec4-ddac-846288e419ce"
      },
      "execution_count": 20,
      "outputs": [
        {
          "output_type": "stream",
          "name": "stdout",
          "text": [
            "-0\n",
            "neutral and equal\n"
          ]
        }
      ]
    },
    {
      "cell_type": "markdown",
      "source": [
        "**voter qualification program** "
      ],
      "metadata": {
        "id": "XaPl04r3rFCk"
      }
    },
    {
      "cell_type": "code",
      "source": [
        "age = int(input())\n",
        "\n",
        "if age>=18:\n",
        "  print (\"you can vote\")\n",
        "else:\n",
        "  print (\"you cannot vote\")"
      ],
      "metadata": {
        "colab": {
          "base_uri": "https://localhost:8080/"
        },
        "id": "1VfpJopArOqo",
        "outputId": "72f23d1b-b4ae-4275-9a7f-27f0a2ad7b32"
      },
      "execution_count": 22,
      "outputs": [
        {
          "output_type": "stream",
          "name": "stdout",
          "text": [
            "18\n",
            "you can vote\n"
          ]
        }
      ]
    },
    {
      "cell_type": "markdown",
      "source": [
        "nested if else"
      ],
      "metadata": {
        "id": "S2uG4jlkrt8m"
      }
    },
    {
      "cell_type": "code",
      "source": [
        "e=int(input())\n",
        "if e>1:\n",
        "  print (\"e is more than 1\")\n",
        "  if e>10:\n",
        "    print (\"e is more than 10\")\n",
        "    if e>20:\n",
        "      print (\"e is more than 20\")\n",
        "    else:\n",
        "      print (\"e is less than 20\")"
      ],
      "metadata": {
        "colab": {
          "base_uri": "https://localhost:8080/"
        },
        "id": "rLnb-Ce_rv8q",
        "outputId": "7f0bc8c2-8527-43da-aa40-d6a3c0ae21de"
      },
      "execution_count": 26,
      "outputs": [
        {
          "output_type": "stream",
          "name": "stdout",
          "text": [
            "25\n",
            "e is more than 1\n",
            "e is more than 10\n",
            "e is more than 20\n"
          ]
        }
      ]
    },
    {
      "cell_type": "markdown",
      "source": [
        "**loop structure**"
      ],
      "metadata": {
        "id": "uGV0wmmVtzMy"
      }
    },
    {
      "cell_type": "code",
      "source": [
        "color = [\"yellow\", \"blue\", \"red\"]\n",
        "shade = [\"light\", \"dark\"]\n",
        "\n",
        "for a in color:\n",
        "  for b in shade:\n",
        "    print (b,a)"
      ],
      "metadata": {
        "colab": {
          "base_uri": "https://localhost:8080/"
        },
        "id": "6mKrbmEkt25A",
        "outputId": "c895a93e-57cd-43b1-9df6-cbd4e9ce232a"
      },
      "execution_count": 27,
      "outputs": [
        {
          "output_type": "stream",
          "name": "stdout",
          "text": [
            "light yellow\n",
            "dark yellow\n",
            "light blue\n",
            "dark blue\n",
            "light red\n",
            "dark red\n"
          ]
        }
      ]
    },
    {
      "cell_type": "markdown",
      "source": [
        "break"
      ],
      "metadata": {
        "id": "n_wLi0BcvBbo"
      }
    },
    {
      "cell_type": "code",
      "source": [
        "for a in color:\n",
        "  print (a)\n",
        "  if a==\"blue\":\n",
        "    break"
      ],
      "metadata": {
        "colab": {
          "base_uri": "https://localhost:8080/"
        },
        "id": "F8_7O95GvCm6",
        "outputId": "aeda1005-a706-4d39-9e49-f09e680349db"
      },
      "execution_count": 28,
      "outputs": [
        {
          "output_type": "stream",
          "name": "stdout",
          "text": [
            "yellow\n",
            "blue\n"
          ]
        }
      ]
    },
    {
      "cell_type": "markdown",
      "source": [
        "while loop"
      ],
      "metadata": {
        "id": "9sXSkSGOvNqb"
      }
    },
    {
      "cell_type": "code",
      "source": [
        "x=1\n",
        "\n",
        "while x<=5:\n",
        "  print(x)\n",
        "  x+=1"
      ],
      "metadata": {
        "colab": {
          "base_uri": "https://localhost:8080/"
        },
        "id": "6FacT4-DvOx1",
        "outputId": "7a552132-36fa-4150-bfeb-b47233ed529a"
      },
      "execution_count": 29,
      "outputs": [
        {
          "output_type": "stream",
          "name": "stdout",
          "text": [
            "1\n",
            "2\n",
            "3\n",
            "4\n",
            "5\n"
          ]
        }
      ]
    }
  ]
}